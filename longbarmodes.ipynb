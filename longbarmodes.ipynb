{
 "cells": [
  {
   "cell_type": "markdown",
   "metadata": {},
   "source": [
    "## Longitudinal bar mode animation\n",
    "This notebook generates animations of longitundinal modes for a free solid bar. It displays the modes in a longitudinal and transverse plotting schemes - however the particle  displacement considered is solely longitundinal."
   ]
  },
  {
   "cell_type": "code",
   "execution_count": 8,
   "metadata": {
    "collapsed": false
   },
   "outputs": [],
   "source": [
    "## set up variables\n",
    "from numpy import *\n",
    "import matplotlib.pyplot as plt\n",
    "import matplotlib.animation as animation\n",
    "\n",
    "L = 1.0 # bar length\n",
    "dL_frac=0.7 # this is the displacement as a fraction of the seperation between points\n",
    "\n",
    "Npoints = 20 # points show bar displacement\n",
    "Mpoints = 7  # number of points to var - bar diameter. \n",
    "npoints = 100 # n points for graph of displacement \n",
    "\n",
    "mode = 1 # fundamental - for a free bar this should be an odd number\n",
    "freq = 0.1\n",
    "tstep = 0.2 # 'time steps' in radians for animation (this sets up how many images per cycle)\n",
    "\n",
    "\n",
    "# do some preliminary calculations\n",
    "omega=2*pi*freq\n",
    "wavelength = 2*L/mode\n",
    "k=2*pi/wavelength\n",
    "dL = dL_frac * L /Npoints"
   ]
  },
  {
   "cell_type": "code",
   "execution_count": 9,
   "metadata": {
    "collapsed": false
   },
   "outputs": [],
   "source": [
    "# set up data structures\n",
    "xbar = arange(-L/2,L/2,L/Npoints)\n",
    "ybar=[]\n",
    "dx_barNEW = [0]*Mpoints*Npoints ## this is an empty data structure to hold different rows\n",
    "xbar0 = [0]*Mpoints*Npoints ## this is an empty data structure to hold different rows\n",
    "\n",
    "for a in range(Mpoints):\n",
    "    for b in range(Npoints):\n",
    "        ybar.append(a)   # generate y values of height\n",
    "xgraph = arange(-L/2,L/2,L/npoints) # data range for graph\n",
    "t = arange(0,2*pi/omega,tstep)\n",
    "\n",
    "def dx(x,k,omega,time,dL):\n",
    "    phase=0 # this allows us to change the boundary conditions  phase=0 for free bar phase=pi/2 for fixed bar\n",
    "    dx = dL * sin(k*x+phase) * cos(omega*time)\n",
    "    return dx"
   ]
  },
  {
   "cell_type": "code",
   "execution_count": 11,
   "metadata": {
    "collapsed": false
   },
   "outputs": [],
   "source": [
    "## Plot displacement in longitudinal projection\n",
    "fig, ax = plt.subplots()\n",
    "line2, = ax.plot(xbar,0*xbar,\"o\")\n",
    "line2.set_ydata(ybar)  # set the y data so the points are repeated.\n",
    "\n",
    "# make the outline of the bar\n",
    "linebar, = ax.plot(xbar,0*xbar) # draw a box around the all the points\n",
    "linebar.set_ydata([0,0,Mpoints-1,Mpoints-1,0])\n",
    "\n",
    "# make the outline of the bar for zero displacement\n",
    "linebar0, = ax.plot(xbar,0*xbar,\"g--\") # draw a box around the all the points\n",
    "linebar0.set_ydata([0,0,Mpoints-1,Mpoints-1,0])\n",
    "linebar0.set_xdata([xbar[0],xbar[Npoints-1],xbar[Npoints-1],xbar[0],xbar[0]])\n",
    "\n",
    "# make the atom position zeros\n",
    "bar0, = ax.plot(xbar,0*xbar,\"og\",alpha=0.5) # draw a box around the all the points\n",
    "bar0.set_ydata(ybar)\n",
    "for a in range(Mpoints):   # copy the x-data many times for the different rows\n",
    "    for b in range(Npoints):\n",
    "        xbar0[a*Npoints+b]=xbar[b]\n",
    "bar0.set_xdata(xbar0)\n",
    "\n",
    "\n",
    "yspacer=5\n",
    "ax.set_ylim([0-1-yspacer,Mpoints+1+yspacer])\n",
    "ax.set_xlim([xbar[0]-dL,xbar[Npoints-1]+dL])\n",
    "\n",
    "def animate(i):\n",
    "    time=t[i]\n",
    "    # time=0\n",
    "    #time=pi/omega\n",
    "    dx_bar = dx(xbar,k,omega,time,dL)    \n",
    "    \n",
    "    for a in range(Mpoints):   # copy the x-data many times for the different rows\n",
    "        for b in range(Npoints):\n",
    "            dx_barNEW[a*Npoints+b]=xbar[b]+dx_bar[b]\n",
    "    \n",
    "    #line2.set_xdata(xbar+dx_bar)  # update the data positions\n",
    "    line2.set_xdata(dx_barNEW)  # update the data positions\n",
    "    \n",
    "    xmin = xbar[0]+dx_bar[0]\n",
    "    xmax = xbar[Npoints-1]+dx_bar[Npoints-1]\n",
    "    linebar.set_xdata([xmin,xmax,xmax,xmin,xmin])\n",
    "\n",
    "    return line2,linebar\n",
    "\n",
    "def init():\n",
    "    line2.set_ydata(ma.array(xgraph, mask=True))\n",
    "    line2.set_xdata(ma.array(xgraph, mask=True))\n",
    "    return line,    \n",
    "       \n",
    "def save_ani():\n",
    "    savetitle = \"LongRepresentation_of_Bar_mode=\"+str(mode)+\".gif\"\n",
    "    ani.save(savetitle, writer='imagemagick', fps=10);\n",
    "\n",
    "plt.xlabel('Horizontal position along the bar')\n",
    "    \n",
    "ani = animation.FuncAnimation(fig, animate, arange(0,len(t),1), interval=50, blit=False)    \n",
    "#save_ani()   \n",
    "plt.show()"
   ]
  },
  {
   "cell_type": "markdown",
   "metadata": {
    "collapsed": true
   },
   "source": [
    "<center> <img src=\"LongRepresentation_of_Bar_mode=1.gif\" />  </center>"
   ]
  },
  {
   "cell_type": "code",
   "execution_count": null,
   "metadata": {
    "collapsed": true
   },
   "outputs": [],
   "source": []
  },
  {
   "cell_type": "code",
   "execution_count": 13,
   "metadata": {
    "collapsed": false
   },
   "outputs": [],
   "source": [
    "# Plot displacement in transverse projection\n",
    "fig, ax = plt.subplots()\n",
    "line, = ax.plot(xgraph,xgraph)\n",
    "line0,= ax.plot([-L/2, L/2],[0,0],  linestyle='--', c='b')\n",
    "ax.set_ylim([-dL,dL])\n",
    "\n",
    "def animate(i):\n",
    "    time=t[i]\n",
    "    dx_graph = dx(xgraph,k,omega,time,dL)\n",
    "    line.set_ydata(dx_graph)  # update the data\n",
    "#    if i >len(t)/2:\n",
    "#        plt.text(0,dL*0.75,'Displaced to the asdfdfdf')\n",
    "#        print \"Hi\"\n",
    "    return line,\n",
    "\n",
    "def save_ani():\n",
    "    savetitle = \"TransRepresentation_of_Bar_mode=\"+str(mode)+\"FAST.gif\"\n",
    "    ani.save(savetitle, writer='imagemagick', fps=10);\n",
    "\n",
    "# Make graph labels\n",
    "plt.text(0,dL*0.75,'Displaced to the right -->')\n",
    "plt.text(-L*0.25,dL*0.05,'==Not displaced ==')\n",
    "plt.text(-L*0.5,-dL*0.75,'<-- Displaced to the left ') \n",
    "plt.xlabel('Horizontal position along the bar')\n",
    "plt.ylabel('Horizontal displacement along the bar')\n",
    "\n",
    "def init():\n",
    "    line.set_ydata(ma.array(0*dx_graph, mask=True))\n",
    "    line.set_xdata(ma.array(0*xgraph, mask=True))\n",
    "    return line, \n",
    "\n",
    "#ani = animation.FuncAnimation(fig, animate, arange(0,len(t),1), init_func=init, interval=25, blit=True)     \n",
    "ani = animation.FuncAnimation(fig, animate, arange(0,len(t),1), interval=100, blit=False)    \n",
    "\n",
    "save_ani()\n",
    "plt.show()"
   ]
  },
  {
   "cell_type": "markdown",
   "metadata": {
    "collapsed": false
   },
   "source": [
    "<center> <img src=\"TransRepresentation_of_Bar_mode=1.gif\" />  </center>"
   ]
  },
  {
   "cell_type": "markdown",
   "metadata": {},
   "source": [
    "#### to do:\n",
    "- create one with both \n",
    "- show individual points: show this vertically to link to horizontal displacement"
   ]
  }
 ],
 "metadata": {
  "kernelspec": {
   "display_name": "Python 2",
   "language": "python",
   "name": "python2"
  },
  "language_info": {
   "codemirror_mode": {
    "name": "ipython",
    "version": 2
   },
   "file_extension": ".py",
   "mimetype": "text/x-python",
   "name": "python",
   "nbconvert_exporter": "python",
   "pygments_lexer": "ipython2",
   "version": "2.7.6"
  }
 },
 "nbformat": 4,
 "nbformat_minor": 0
}
